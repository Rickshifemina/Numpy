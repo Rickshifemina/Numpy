{
  "cells": [
    {
      "cell_type": "code",
      "execution_count": 27,
      "metadata": {
        "id": "uMus7b5ICRG-"
      },
      "outputs": [],
      "source": [
        "import numpy as np"
      ]
    },
    {
      "cell_type": "markdown",
      "metadata": {
        "id": "1-LZN11aLHsQ"
      },
      "source": [
        "**Basic Arithmetic Operations**"
      ]
    },
    {
      "cell_type": "code",
      "execution_count": 28,
      "metadata": {
        "id": "SyjjQzUnDIh4"
      },
      "outputs": [],
      "source": [
        "def basic_operations():\n",
        "    a = np.array(input(\"Enter elements of first array (space-separated): \").split(),dtype = int)\n",
        "    b = np.array(input(\"Enter elements of second array (space-separated): \").split(),dtype = int)\n",
        "\n",
        "    print(\"\\n--- Basic Arithmetic ---\")\n",
        "    print(\"Addition:\", a + b)\n",
        "    print(\"Subtraction:\", a - b)\n",
        "    print(\"Multiplication:\", a * b)\n",
        "    print(\"Division:\", a / b)\n",
        "    print(\"Power :\", a ** b)\n"
      ]
    },
    {
      "cell_type": "markdown",
      "metadata": {
        "id": "kBKBAjd8MC1Y"
      },
      "source": [
        "**Statistical Operations**"
      ]
    },
    {
      "cell_type": "code",
      "execution_count": 29,
      "metadata": {
        "id": "A_aIxQl_CP3D"
      },
      "outputs": [],
      "source": [
        "def statistical_operations():\n",
        "    arr = np.array(input(\"Enter array elements (space-separated): \").split(),dtype= int)\n",
        "\n",
        "    print(\"\\n--- Statistical Results ---\")\n",
        "    print(\"Mean:\", np.mean(arr))\n",
        "    print(\"Median:\", np.median(arr))\n",
        "    print(\"Standard Deviation:\", np.std(arr))\n",
        "    print(\"Variance:\", np.var(arr))\n",
        "    print(\"Minimum:\", np.min(arr))\n",
        "    print(\"Maximum:\", np.max(arr))\n",
        "    print(\"Sum:\", np.sum(arr))\n",
        "    print(\"Product:\", np.prod(arr))\n",
        "    print(\"Shape:\", arr.shape)\n",
        "    print(\"Size:\",arr.size)\n",
        "    print(\"Data Type:\", arr.dtype)"
      ]
    },
    {
      "cell_type": "markdown",
      "metadata": {
        "id": "Y5usHKJdMGO5"
      },
      "source": [
        "**Array Manipulation**"
      ]
    },
    {
      "cell_type": "code",
      "execution_count": 32,
      "metadata": {
        "id": "Kmawdo-tCfMu"
      },
      "outputs": [],
      "source": [
        "def array_manipulation():\n",
        "    arr = np.array(input(\"Enter array elements (space-separated): \").split(),dtype= int)\n",
        "\n",
        "    print(\"\\n--- Array Manipulation ---\")\n",
        "\n",
        "\n",
        "    r = int(input(\"Enter number of rows for reshape: \"))\n",
        "    c = int(input(\"Enter number of columns for reshape: \"))\n",
        "\n",
        "    if len(arr) == r * c:\n",
        "        print(\"Reshaped Array:\\n\", arr.reshape(r, c))\n",
        "    else:\n",
        "        print(\"Reshape Not Possible\")\n",
        "\n",
        "    print(\"Sorted Array:\", np.sort(arr))\n",
        "    print(\"Reverse Sorted:\", arr[::-1])\n",
        "    print(\"Unique Values:\", np.unique(arr))\n",
        "    print(\"First Element:\", arr[0])\n",
        "    print(\"Last Element:\", arr[-1])\n",
        "    print(\"Mean:\",np.mean(arr))\n",
        "    mean = np.mean(arr)\n",
        "    print(\"Filtering values greater than the mean:\",arr[arr>mean])\n"
      ]
    },
    {
      "cell_type": "code",
      "execution_count": 34,
      "metadata": {
        "colab": {
          "base_uri": "https://localhost:8080/"
        },
        "id": "gkQbTW6lClGK",
        "outputId": "1b37f5cc-9867-40ab-ef44-6aba9a3fe4cd"
      },
      "outputs": [
        {
          "name": "stdout",
          "output_type": "stream",
          "text": [
            "\n",
            "------ NumPy Mathematical Calculator ------\n",
            "1. Basic Arithmetic Operations\n",
            "2. Statistical Operations\n",
            "3. Array Manipulation\n",
            "4. Exit\n",
            "Enter your choice: 1\n",
            "Enter elements of first array (space-separated): 2 3 4 5\n",
            "Enter elements of second array (space-separated): 3 4 5 6\n",
            "\n",
            "--- Basic Arithmetic ---\n",
            "Addition: [ 5  7  9 11]\n",
            "Subtraction: [-1 -1 -1 -1]\n",
            "Multiplication: [ 6 12 20 30]\n",
            "Division: [0.66666667 0.75       0.8        0.83333333]\n",
            "Power : [    8    81  1024 15625]\n",
            "\n",
            "------ NumPy Mathematical Calculator ------\n",
            "1. Basic Arithmetic Operations\n",
            "2. Statistical Operations\n",
            "3. Array Manipulation\n",
            "4. Exit\n",
            "Enter your choice: 4\n",
            "Exiting Program...\n"
          ]
        }
      ],
      "source": [
        "def main():\n",
        "    while True:\n",
        "        print(\"\\n------ NumPy Mathematical Calculator ------\")\n",
        "        print(\"1. Basic Arithmetic Operations\")\n",
        "        print(\"2. Statistical Operations\")\n",
        "        print(\"3. Array Manipulation\")\n",
        "        print(\"4. Exit\")\n",
        "\n",
        "        choice = int(input(\"Enter your choice: \"))\n",
        "\n",
        "        if choice == 1:\n",
        "            basic_operations()\n",
        "        elif choice == 2:\n",
        "            statistical_operations()\n",
        "        elif choice == 3:\n",
        "            array_manipulation()\n",
        "        elif choice == 4:\n",
        "            print(\"Exiting Program...\")\n",
        "            break\n",
        "        else:\n",
        "            print(\"Invalid Choice! Try Again.\")\n",
        "\n",
        "\n",
        "main()"
      ]
    }
  ],
  "metadata": {
    "colab": {
      "provenance": []
    },
    "kernelspec": {
      "display_name": "Python 3",
      "name": "python3"
    },
    "language_info": {
      "name": "python"
    }
  },
  "nbformat": 4,
  "nbformat_minor": 0
}
