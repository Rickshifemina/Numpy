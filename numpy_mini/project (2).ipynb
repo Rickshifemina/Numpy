{
  "nbformat": 4,
  "nbformat_minor": 0,
  "metadata": {
    "colab": {
      "provenance": []
    },
    "kernelspec": {
      "name": "python3",
      "display_name": "Python 3"
    },
    "language_info": {
      "name": "python"
    }
  },
  "cells": [
    {
      "cell_type": "code",
      "execution_count": 88,
      "metadata": {
        "id": "iA6MlOjqSB0S"
      },
      "outputs": [],
      "source": [
        "import numpy as np"
      ]
    },
    {
      "cell_type": "markdown",
      "source": [
        "Data Creation"
      ],
      "metadata": {
        "id": "RXrbROg-ZTh_"
      }
    },
    {
      "cell_type": "code",
      "source": [
        "student = np.array([\"Alia\", \"Riya\", \"Ram\", \"Priya\", \"Eve\", \"Don\"])\n",
        "subject = np.array([\"Physics\", \"Chemistry\", \"English\", \"Maths\"])\n",
        "marks = np.array([\n",
        "    [90, 65, 95, 91],\n",
        "    [80, 75, 90, 85],\n",
        "    [95, 89, 94, 87],\n",
        "    [76, 64, 68, 87],\n",
        "    [89, 85, 91, 85],\n",
        "    [88, 71, 60, 40]])\n",
        "\n",
        "print(student)\n",
        "print(subject)\n",
        "print(marks)\n",
        "\n",
        "\n",
        "\n"
      ],
      "metadata": {
        "id": "Bv3Z1BWeSbw9",
        "colab": {
          "base_uri": "https://localhost:8080/"
        },
        "outputId": "37cfcc25-86fe-48ae-832c-e82ddb46b810"
      },
      "execution_count": 89,
      "outputs": [
        {
          "output_type": "stream",
          "name": "stdout",
          "text": [
            "['Alia' 'Riya' 'Ram' 'Priya' 'Eve' 'Don']\n",
            "['Physics' 'Chemistry' 'English' 'Maths']\n",
            "[[90 65 95 91]\n",
            " [80 75 90 85]\n",
            " [95 89 94 87]\n",
            " [76 64 68 87]\n",
            " [89 85 91 85]\n",
            " [88 71 60 40]]\n"
          ]
        }
      ]
    },
    {
      "cell_type": "markdown",
      "source": [
        "Data Exploration"
      ],
      "metadata": {
        "id": "sq7Yacnca2dm"
      }
    },
    {
      "cell_type": "code",
      "source": [
        "print(student.ndim)\n",
        "print(subject.ndim)\n",
        "print(marks.ndim)"
      ],
      "metadata": {
        "colab": {
          "base_uri": "https://localhost:8080/"
        },
        "id": "7aZGiCn8TlL8",
        "outputId": "bac0d949-2899-48f9-8d7e-5dca61ca422e"
      },
      "execution_count": 90,
      "outputs": [
        {
          "output_type": "stream",
          "name": "stdout",
          "text": [
            "1\n",
            "1\n",
            "2\n"
          ]
        }
      ]
    },
    {
      "cell_type": "code",
      "source": [
        "print(student.size)\n",
        "print(subject.size)\n",
        "print(marks.size)"
      ],
      "metadata": {
        "colab": {
          "base_uri": "https://localhost:8080/"
        },
        "id": "IrysItsOUG6j",
        "outputId": "7617a54f-5ef0-4b9d-837f-6c53dc15e9da"
      },
      "execution_count": 91,
      "outputs": [
        {
          "output_type": "stream",
          "name": "stdout",
          "text": [
            "6\n",
            "4\n",
            "24\n"
          ]
        }
      ]
    },
    {
      "cell_type": "code",
      "source": [
        "print(student.shape)\n",
        "print(subject.shape)\n",
        "print(marks.shape)"
      ],
      "metadata": {
        "colab": {
          "base_uri": "https://localhost:8080/"
        },
        "id": "tZ5sPD62UPPP",
        "outputId": "570d8f25-dd4c-40b0-99f0-2fe46e6a440d"
      },
      "execution_count": 92,
      "outputs": [
        {
          "output_type": "stream",
          "name": "stdout",
          "text": [
            "(6,)\n",
            "(4,)\n",
            "(6, 4)\n"
          ]
        }
      ]
    },
    {
      "cell_type": "markdown",
      "source": [
        "Data Transformation"
      ],
      "metadata": {
        "id": "graRQcY-ZbmY"
      }
    },
    {
      "cell_type": "code",
      "source": [
        "print(marks.flatten())\n"
      ],
      "metadata": {
        "colab": {
          "base_uri": "https://localhost:8080/"
        },
        "id": "_rXohsVeUyzf",
        "outputId": "cdeffbed-5db8-4621-b879-a0c877302774"
      },
      "execution_count": 93,
      "outputs": [
        {
          "output_type": "stream",
          "name": "stdout",
          "text": [
            "[90 65 95 91 80 75 90 85 95 89 94 87 76 64 68 87 89 85 91 85 88 71 60 40]\n"
          ]
        }
      ]
    },
    {
      "cell_type": "code",
      "source": [
        "print(marks.reshape(12,2))"
      ],
      "metadata": {
        "colab": {
          "base_uri": "https://localhost:8080/"
        },
        "id": "ipVv8IfaD8Pu",
        "outputId": "1db113d5-5ba7-4c4a-95ca-71fd9c0f3e7a"
      },
      "execution_count": 94,
      "outputs": [
        {
          "output_type": "stream",
          "name": "stdout",
          "text": [
            "[[90 65]\n",
            " [95 91]\n",
            " [80 75]\n",
            " [90 85]\n",
            " [95 89]\n",
            " [94 87]\n",
            " [76 64]\n",
            " [68 87]\n",
            " [89 85]\n",
            " [91 85]\n",
            " [88 71]\n",
            " [60 40]]\n"
          ]
        }
      ]
    },
    {
      "cell_type": "code",
      "source": [
        "print(marks.T)"
      ],
      "metadata": {
        "colab": {
          "base_uri": "https://localhost:8080/"
        },
        "id": "w8D5Ww-kWWjP",
        "outputId": "eb0b3feb-184a-4b0d-8f45-401c1a24be9a"
      },
      "execution_count": 95,
      "outputs": [
        {
          "output_type": "stream",
          "name": "stdout",
          "text": [
            "[[90 80 95 76 89 88]\n",
            " [65 75 89 64 85 71]\n",
            " [95 90 94 68 91 60]\n",
            " [91 85 87 87 85 40]]\n"
          ]
        }
      ]
    },
    {
      "cell_type": "code",
      "source": [
        "print(np.flip(marks))"
      ],
      "metadata": {
        "colab": {
          "base_uri": "https://localhost:8080/"
        },
        "id": "I292ItLcYNPw",
        "outputId": "a6a6326a-ed59-4966-ae36-e0618794bd88"
      },
      "execution_count": 96,
      "outputs": [
        {
          "output_type": "stream",
          "name": "stdout",
          "text": [
            "[[40 60 71 88]\n",
            " [85 91 85 89]\n",
            " [87 68 64 76]\n",
            " [87 94 89 95]\n",
            " [85 90 75 80]\n",
            " [91 95 65 90]]\n"
          ]
        }
      ]
    },
    {
      "cell_type": "markdown",
      "source": [
        "Data Combination"
      ],
      "metadata": {
        "id": "1Rp2svYmZh1D"
      }
    },
    {
      "cell_type": "code",
      "source": [
        "student = np.array(['Alia',\"Riya\",\"Ram\"])\n",
        "marks = np.array([[90, 65, 95, 91],\n",
        "    [80, 75, 90, 85],\n",
        "    [95, 89, 94, 87]])\n",
        "student_1 = np.array([\"Siya\"])\n",
        "marks_1 = np.array([[75,80,90,89]])\n",
        "\n",
        "student = np.concatenate((student,student_1))\n",
        "marks = np.concatenate((marks,marks_1))\n"
      ],
      "metadata": {
        "id": "HWrxt_wKGFep"
      },
      "execution_count": 97,
      "outputs": []
    },
    {
      "cell_type": "code",
      "source": [
        "print(student)"
      ],
      "metadata": {
        "colab": {
          "base_uri": "https://localhost:8080/"
        },
        "id": "FIrAGDvpHXNd",
        "outputId": "39beea4d-0c2b-47b4-800f-243d78c9154b"
      },
      "execution_count": 98,
      "outputs": [
        {
          "output_type": "stream",
          "name": "stdout",
          "text": [
            "['Alia' 'Riya' 'Ram' 'Siya']\n"
          ]
        }
      ]
    },
    {
      "cell_type": "code",
      "source": [
        "print(marks)"
      ],
      "metadata": {
        "colab": {
          "base_uri": "https://localhost:8080/"
        },
        "id": "EPjEg9wSHi3I",
        "outputId": "1448b048-9ce9-4d39-e2a2-68fd77fe8083"
      },
      "execution_count": 99,
      "outputs": [
        {
          "output_type": "stream",
          "name": "stdout",
          "text": [
            "[[90 65 95 91]\n",
            " [80 75 90 85]\n",
            " [95 89 94 87]\n",
            " [75 80 90 89]]\n"
          ]
        }
      ]
    },
    {
      "cell_type": "code",
      "source": [
        "marks= marks.reshape(-1)\n",
        "print(marks)\n",
        "np.split(marks,4)"
      ],
      "metadata": {
        "colab": {
          "base_uri": "https://localhost:8080/"
        },
        "id": "OFrpNTULLr8d",
        "outputId": "e9b85ba4-d433-4eb7-b80f-1e9320de7009"
      },
      "execution_count": 100,
      "outputs": [
        {
          "output_type": "stream",
          "name": "stdout",
          "text": [
            "[90 65 95 91 80 75 90 85 95 89 94 87 75 80 90 89]\n"
          ]
        },
        {
          "output_type": "execute_result",
          "data": {
            "text/plain": [
              "[array([90, 65, 95, 91]),\n",
              " array([80, 75, 90, 85]),\n",
              " array([95, 89, 94, 87]),\n",
              " array([75, 80, 90, 89])]"
            ]
          },
          "metadata": {},
          "execution_count": 100
        }
      ]
    },
    {
      "cell_type": "markdown",
      "source": [
        "Data Modification"
      ],
      "metadata": {
        "id": "TF-cTgmaPhWs"
      }
    },
    {
      "cell_type": "code",
      "source": [
        "marks[4] = 40\n",
        "print(marks)"
      ],
      "metadata": {
        "colab": {
          "base_uri": "https://localhost:8080/"
        },
        "id": "Z773CeZCLuCm",
        "outputId": "d41d41ea-d443-4091-d974-6c67c2ae4993"
      },
      "execution_count": 101,
      "outputs": [
        {
          "output_type": "stream",
          "name": "stdout",
          "text": [
            "[90 65 95 91 40 75 90 85 95 89 94 87 75 80 90 89]\n"
          ]
        }
      ]
    },
    {
      "cell_type": "code",
      "source": [
        "q = np.delete(marks,4)\n",
        "print(q)"
      ],
      "metadata": {
        "colab": {
          "base_uri": "https://localhost:8080/"
        },
        "id": "3swb9DjfLy5V",
        "outputId": "b3195420-d8ab-4750-e663-dacc5487700f"
      },
      "execution_count": 102,
      "outputs": [
        {
          "output_type": "stream",
          "name": "stdout",
          "text": [
            "[90 65 95 91 75 90 85 95 89 94 87 75 80 90 89]\n"
          ]
        }
      ]
    },
    {
      "cell_type": "code",
      "source": [
        "print(marks)\n",
        "np.unique(marks)"
      ],
      "metadata": {
        "colab": {
          "base_uri": "https://localhost:8080/"
        },
        "id": "oUhf4o25L6Y3",
        "outputId": "2a8d75d5-b06c-49bc-fe05-e3d8311b68a2"
      },
      "execution_count": 103,
      "outputs": [
        {
          "output_type": "stream",
          "name": "stdout",
          "text": [
            "[90 65 95 91 40 75 90 85 95 89 94 87 75 80 90 89]\n"
          ]
        },
        {
          "output_type": "execute_result",
          "data": {
            "text/plain": [
              "array([40, 65, 75, 80, 85, 87, 89, 90, 91, 94, 95])"
            ]
          },
          "metadata": {},
          "execution_count": 103
        }
      ]
    },
    {
      "cell_type": "markdown",
      "source": [
        "DataType Handling"
      ],
      "metadata": {
        "id": "MsD45gt0TbEy"
      }
    },
    {
      "cell_type": "code",
      "source": [
        "print(marks.dtype)\n",
        "print(marks.astype(dtype=float))\n",
        "print(marks.astype(dtype=str))"
      ],
      "metadata": {
        "colab": {
          "base_uri": "https://localhost:8080/"
        },
        "id": "iMq9YcJdL8Gb",
        "outputId": "ddb069e2-53d9-4dd6-818d-196965850224"
      },
      "execution_count": 104,
      "outputs": [
        {
          "output_type": "stream",
          "name": "stdout",
          "text": [
            "int64\n",
            "[90. 65. 95. 91. 40. 75. 90. 85. 95. 89. 94. 87. 75. 80. 90. 89.]\n",
            "['90' '65' '95' '91' '40' '75' '90' '85' '95' '89' '94' '87' '75' '80'\n",
            " '90' '89']\n"
          ]
        }
      ]
    },
    {
      "cell_type": "markdown",
      "source": [
        "Copy vs View Behavior"
      ],
      "metadata": {
        "id": "KmQLip-2UDfH"
      }
    },
    {
      "cell_type": "code",
      "source": [
        "a = marks.copy()\n",
        "a[0] = 99\n",
        "print(a)"
      ],
      "metadata": {
        "id": "rGoi17_-MAiG",
        "colab": {
          "base_uri": "https://localhost:8080/"
        },
        "outputId": "f694cb8a-2ab3-4bdb-eb6c-97b2718da6d4"
      },
      "execution_count": 105,
      "outputs": [
        {
          "output_type": "stream",
          "name": "stdout",
          "text": [
            "[99 65 95 91 40 75 90 85 95 89 94 87 75 80 90 89]\n"
          ]
        }
      ]
    },
    {
      "cell_type": "code",
      "source": [
        "b = marks.view()\n",
        "b[0] = 100\n",
        "print(b)"
      ],
      "metadata": {
        "colab": {
          "base_uri": "https://localhost:8080/"
        },
        "id": "tD9awSF5Up8c",
        "outputId": "4051af38-db84-40f4-9752-f0263484a794"
      },
      "execution_count": 106,
      "outputs": [
        {
          "output_type": "stream",
          "name": "stdout",
          "text": [
            "[100  65  95  91  40  75  90  85  95  89  94  87  75  80  90  89]\n"
          ]
        }
      ]
    }
  ]
}